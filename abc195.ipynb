{
 "cells": [
  {
   "cell_type": "code",
   "execution_count": 1,
   "metadata": {},
   "outputs": [],
   "source": [
    "#A - Health M Death / "
   ]
  },
  {
   "cell_type": "code",
   "execution_count": 7,
   "metadata": {},
   "outputs": [
    {
     "name": "stdout",
     "output_type": "stream",
     "text": [
      "10 125\n"
     ]
    }
   ],
   "source": [
    "m, h = map(int, input().split())"
   ]
  },
  {
   "cell_type": "code",
   "execution_count": 9,
   "metadata": {},
   "outputs": [
    {
     "name": "stdout",
     "output_type": "stream",
     "text": [
      "No\n"
     ]
    }
   ],
   "source": [
    "if h%m==0:\n",
    "    print('Yes')\n",
    "else:\n",
    "    print('No')"
   ]
  },
  {
   "cell_type": "code",
   "execution_count": 10,
   "metadata": {},
   "outputs": [],
   "source": [
    "#B - Many Oranges / "
   ]
  },
  {
   "cell_type": "code",
   "execution_count": 156,
   "metadata": {},
   "outputs": [
    {
     "name": "stdout",
     "output_type": "stream",
     "text": [
      "120 150 2\n"
     ]
    }
   ],
   "source": [
    "a, b, w = map(int, input().split())"
   ]
  },
  {
   "cell_type": "code",
   "execution_count": 157,
   "metadata": {},
   "outputs": [
    {
     "name": "stdout",
     "output_type": "stream",
     "text": [
      "16\n",
      "14 16\n"
     ]
    }
   ],
   "source": [
    "A=a/1000\n",
    "B=b/1000\n",
    "max_num = int(w/A)\n",
    "print(max_num)\n",
    "ans=[]\n",
    "\n",
    "for i in range(1,max_num+1):\n",
    "    if w/i>=A and w/i <= B:\n",
    "        ans.append(i)\n",
    "\n",
    "if ans:\n",
    "    print(min(ans), max(ans))\n",
    "else:\n",
    "    print('UNSATISFIABLE')"
   ]
  },
  {
   "cell_type": "code",
   "execution_count": 69,
   "metadata": {},
   "outputs": [],
   "source": [
    "#C - Comma"
   ]
  },
  {
   "cell_type": "code",
   "execution_count": 101,
   "metadata": {},
   "outputs": [
    {
     "name": "stdout",
     "output_type": "stream",
     "text": [
      "27182818284590\n"
     ]
    }
   ],
   "source": [
    "x = int(input())"
   ]
  },
  {
   "cell_type": "code",
   "execution_count": 115,
   "metadata": {},
   "outputs": [
    {
     "name": "stdout",
     "output_type": "stream",
     "text": [
      "107730272137364\n"
     ]
    }
   ],
   "source": [
    "ans = 0\n",
    "\n",
    "i = 3\n",
    "while i <= 15:\n",
    "    if x>=10**i and x < 10**(i+3):\n",
    "        ans += (x-10**i+1)*(i//3)\n",
    "        break\n",
    "    elif x>=10**i:\n",
    "        ans += (10**(i+3)-10**i)*(i//3)\n",
    "        i+=3\n",
    "    else:\n",
    "        break\n",
    "\n",
    "print(ans)"
   ]
  },
  {
   "cell_type": "code",
   "execution_count": null,
   "metadata": {},
   "outputs": [],
   "source": []
  }
 ],
 "metadata": {
  "kernelspec": {
   "display_name": "Python 3",
   "language": "python",
   "name": "python3"
  },
  "language_info": {
   "codemirror_mode": {
    "name": "ipython",
    "version": 3
   },
   "file_extension": ".py",
   "mimetype": "text/x-python",
   "name": "python",
   "nbconvert_exporter": "python",
   "pygments_lexer": "ipython3",
   "version": "3.8.5"
  }
 },
 "nbformat": 4,
 "nbformat_minor": 4
}
