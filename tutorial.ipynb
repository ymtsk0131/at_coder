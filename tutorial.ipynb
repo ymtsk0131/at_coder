{
 "cells": [
  {
   "cell_type": "markdown",
   "metadata": {},
   "source": [
    "# ABC088B - Card Game for Two"
   ]
  },
  {
   "cell_type": "code",
   "execution_count": 16,
   "metadata": {},
   "outputs": [
    {
     "name": "stdout",
     "output_type": "stream",
     "text": [
      "4\n",
      "2 4 6 8\n",
      "4\n"
     ]
    }
   ],
   "source": [
    "N = input()\n",
    "cards  = list(map(int, input().split()))\n",
    "\n",
    "i = 0\n",
    "sum1 = 0\n",
    "sum2 = 0\n",
    "\n",
    "while len(cards) > 0:\n",
    "    max_num = max(cards)\n",
    "    cards.remove(max_num)\n",
    "    if i%2 == 0:\n",
    "        sum1 += max_num\n",
    "    else:\n",
    "        sum2 += max_num\n",
    "    i += 1\n",
    "\n",
    "print(sum1 - sum2)"
   ]
  },
  {
   "cell_type": "markdown",
   "metadata": {},
   "source": [
    "# ABC085B - Kagami Mochi\n",
    "https://atcoder.jp/contests/abs/tasks/abc085_b"
   ]
  },
  {
   "cell_type": "code",
   "execution_count": 23,
   "metadata": {},
   "outputs": [
    {
     "name": "stdout",
     "output_type": "stream",
     "text": [
      "3\n",
      "15\n",
      "15\n",
      "15\n",
      "1\n"
     ]
    }
   ],
   "source": [
    "N = int(input())\n",
    "mochi = [int(input()) for i in range(N)]\n",
    "mochi_filttered = set(mochi)\n",
    "print(len(mochi_filttered))"
   ]
  }
 ],
 "metadata": {
  "kernelspec": {
   "display_name": "Python 3",
   "language": "python",
   "name": "python3"
  },
  "language_info": {
   "codemirror_mode": {
    "name": "ipython",
    "version": 3
   },
   "file_extension": ".py",
   "mimetype": "text/x-python",
   "name": "python",
   "nbconvert_exporter": "python",
   "pygments_lexer": "ipython3",
   "version": "3.8.5"
  }
 },
 "nbformat": 4,
 "nbformat_minor": 4
}
