{
 "cells": [
  {
   "cell_type": "markdown",
   "metadata": {},
   "source": [
    "# ABC088B - Card Game for Two"
   ]
  },
  {
   "cell_type": "code",
   "execution_count": 16,
   "metadata": {},
   "outputs": [
    {
     "name": "stdout",
     "output_type": "stream",
     "text": [
      "4\n",
      "2 4 6 8\n",
      "4\n"
     ]
    }
   ],
   "source": [
    "N = input()\n",
    "cards  = list(map(int, input().split()))\n",
    "\n",
    "i = 0\n",
    "sum1 = 0\n",
    "sum2 = 0\n",
    "\n",
    "while len(cards) > 0:\n",
    "    max_num = max(cards)\n",
    "    cards.remove(max_num)\n",
    "    if i%2 == 0:\n",
    "        sum1 += max_num\n",
    "    else:\n",
    "        sum2 += max_num\n",
    "    i += 1\n",
    "\n",
    "print(sum1 - sum2)"
   ]
  },
  {
   "cell_type": "markdown",
   "metadata": {},
   "source": [
    "# ABC085B - Kagami Mochi\n",
    "https://atcoder.jp/contests/abs/tasks/abc085_b"
   ]
  },
  {
   "cell_type": "code",
   "execution_count": 23,
   "metadata": {},
   "outputs": [
    {
     "name": "stdout",
     "output_type": "stream",
     "text": [
      "3\n",
      "15\n",
      "15\n",
      "15\n",
      "1\n"
     ]
    }
   ],
   "source": [
    "N = int(input())\n",
    "mochi = [int(input()) for i in range(N)]\n",
    "mochi_filttered = set(mochi)\n",
    "print(len(mochi_filttered))"
   ]
  },
  {
   "cell_type": "markdown",
   "metadata": {},
   "source": [
    "# ABC085C - Otoshidama\n",
    "https://atcoder.jp/contests/abs/tasks/abc085_c"
   ]
  },
  {
   "cell_type": "code",
   "execution_count": 60,
   "metadata": {},
   "outputs": [
    {
     "name": "stdout",
     "output_type": "stream",
     "text": [
      "2000 20000000\n",
      "-1 -1 -1\n"
     ]
    }
   ],
   "source": [
    "N, Y = map(int, input().split())\n",
    "res10000, res5000, res1000 = -1, -1, -1\n",
    "\n",
    "for i in range(N):\n",
    "    for j in range(N-i):\n",
    "        k = N - i - j\n",
    "        if i*10000+j*5000+k*1000 == Y:\n",
    "            res10000, res5000, res1000 = i, j, k\n",
    "\n",
    "print(res10000, res5000, res1000)"
   ]
  },
  {
   "cell_type": "code",
   "execution_count": 57,
   "metadata": {},
   "outputs": [
    {
     "name": "stdout",
     "output_type": "stream",
     "text": [
      "4 0 5\n"
     ]
    }
   ],
   "source": []
  }
 ],
 "metadata": {
  "kernelspec": {
   "display_name": "Python 3",
   "language": "python",
   "name": "python3"
  },
  "language_info": {
   "codemirror_mode": {
    "name": "ipython",
    "version": 3
   },
   "file_extension": ".py",
   "mimetype": "text/x-python",
   "name": "python",
   "nbconvert_exporter": "python",
   "pygments_lexer": "ipython3",
   "version": "3.8.5"
  }
 },
 "nbformat": 4,
 "nbformat_minor": 4
}
