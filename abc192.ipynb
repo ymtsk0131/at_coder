{
 "cells": [
  {
   "cell_type": "markdown",
   "metadata": {},
   "source": [
    "# SOMPO HD プログラミングコンテスト2021(AtCoder Beginner Contest 192)\n",
    "https://atcoder.jp/contests/abc192"
   ]
  },
  {
   "cell_type": "markdown",
   "metadata": {},
   "source": [
    "## A - Star"
   ]
  },
  {
   "cell_type": "code",
   "execution_count": 6,
   "metadata": {},
   "outputs": [
    {
     "name": "stdout",
     "output_type": "stream",
     "text": [
      "120\n",
      "80\n"
     ]
    }
   ],
   "source": [
    "x = int(input())\n",
    "print(100 - x%100)"
   ]
  },
  {
   "cell_type": "markdown",
   "metadata": {},
   "source": [
    "## B - uNrEaDaBlE sTrInG "
   ]
  },
  {
   "cell_type": "code",
   "execution_count": 28,
   "metadata": {},
   "outputs": [
    {
     "name": "stdout",
     "output_type": "stream",
     "text": [
      "Yes\n"
     ]
    }
   ],
   "source": [
    "x = input()\n",
    "\n",
    "i = 1\n",
    "flg = True\n",
    "for s in x:\n",
    "    if (s.islower() and i%2 == 1) or (s.isupper() and i%2 == 0):\n",
    "        flg = True\n",
    "    else:\n",
    "        flg = False\n",
    "        break\n",
    "    i += 1\n",
    "\n",
    "if flg:\n",
    "    print('Yes')\n",
    "else:\n",
    "    print('No')"
   ]
  },
  {
   "cell_type": "markdown",
   "metadata": {},
   "source": [
    "## C - Kaprekar Number "
   ]
  },
  {
   "cell_type": "code",
   "execution_count": 72,
   "metadata": {},
   "outputs": [
    {
     "name": "stdout",
     "output_type": "stream",
     "text": [
      "314 2\n",
      "693\n"
     ]
    }
   ],
   "source": [
    "n, k = map(int, input().split())\n",
    "\n",
    "def calc(n):\n",
    "    list = []\n",
    "    for s in str(n):\n",
    "        list.append(int(s))\n",
    "\n",
    "    list.sort()\n",
    "    a1 = ''\n",
    "    for s in list:\n",
    "        a1 += str(s)\n",
    "\n",
    "    list.sort(reverse=True)\n",
    "    a2 = ''\n",
    "    for s in list:\n",
    "        a2 += str(s)\n",
    "    \n",
    "    return int(a2) - int(a1) \n",
    "\n",
    "i = 0\n",
    "while i < k:\n",
    "    n = calc(n)\n",
    "    i += 1\n",
    "\n",
    "print(n)"
   ]
  },
  {
   "cell_type": "markdown",
   "metadata": {},
   "source": [
    "## D - Base n"
   ]
  },
  {
   "cell_type": "code",
   "execution_count": 144,
   "metadata": {
    "scrolled": true
   },
   "outputs": [
    {
     "name": "stdout",
     "output_type": "stream",
     "text": [
      "100000000000000000000000000000000000000000000000000000000000\n",
      "1000000000000000000\n",
      "1\n"
     ]
    }
   ],
   "source": [
    "X = input()\n",
    "M = int(input())\n",
    "\n",
    "def calc(n):\n",
    "    ans = 0\n",
    "    i = len(X)\n",
    "    for a in X:\n",
    "        ans += int(a)*(n**(i -1))\n",
    "        i -= 1\n",
    "    return ans\n",
    "\n",
    "d = 0\n",
    "for x in X:\n",
    "    x = int(x)\n",
    "    if x > d:\n",
    "         d = x\n",
    "\n",
    "i = 0\n",
    "ans = 0\n",
    "n = d+1\n",
    "while True:\n",
    "    ans = calc(n)\n",
    "    if ans > M:\n",
    "        break\n",
    "    i += 1\n",
    "    n += 1\n",
    "\n",
    "print(i)"
   ]
  }
 ],
 "metadata": {
  "kernelspec": {
   "display_name": "Python 3",
   "language": "python",
   "name": "python3"
  },
  "language_info": {
   "codemirror_mode": {
    "name": "ipython",
    "version": 3
   },
   "file_extension": ".py",
   "mimetype": "text/x-python",
   "name": "python",
   "nbconvert_exporter": "python",
   "pygments_lexer": "ipython3",
   "version": "3.8.5"
  }
 },
 "nbformat": 4,
 "nbformat_minor": 4
}
