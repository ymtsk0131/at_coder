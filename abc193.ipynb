{
 "cells": [
  {
   "cell_type": "markdown",
   "metadata": {},
   "source": [
    "# キャディプログラミングコンテスト2021(AtCoder Beginner Contest 193)\n",
    "https://atcoder.jp/contests/abc193"
   ]
  },
  {
   "cell_type": "markdown",
   "metadata": {},
   "source": [
    "# A - Discount"
   ]
  },
  {
   "cell_type": "code",
   "execution_count": 175,
   "metadata": {},
   "outputs": [
    {
     "name": "stdout",
     "output_type": "stream",
     "text": [
      "7 6\n"
     ]
    }
   ],
   "source": [
    "x, y = map(int, input().split())"
   ]
  },
  {
   "cell_type": "code",
   "execution_count": 176,
   "metadata": {},
   "outputs": [
    {
     "name": "stdout",
     "output_type": "stream",
     "text": [
      "14.285714285714285\n"
     ]
    }
   ],
   "source": [
    "print((x- y)/x*100)"
   ]
  },
  {
   "cell_type": "markdown",
   "metadata": {},
   "source": [
    "# B - Play Snuke"
   ]
  },
  {
   "cell_type": "code",
   "execution_count": 33,
   "metadata": {},
   "outputs": [
    {
     "name": "stdout",
     "output_type": "stream",
     "text": [
      "10\n",
      "158260522 877914575 602436426\n",
      "24979445 861648772 623690081\n",
      "433933447 476190629 262703497\n",
      "211047202 971407775 628894325\n",
      "731963982 822804784 450968417\n",
      "430302156 982631932 161735902\n",
      "880895728 923078537 707723857\n",
      "189330739 910286918 802329211\n",
      "404539679 303238506 317063340\n",
      "492686568 773361868 125660016\n"
     ]
    }
   ],
   "source": [
    "N = int(input())\n",
    "shops = [list(map(int, input().split())) for i in range(N)]"
   ]
  },
  {
   "cell_type": "code",
   "execution_count": 35,
   "metadata": {},
   "outputs": [
    {
     "name": "stdout",
     "output_type": "stream",
     "text": [
      "861648772\n"
     ]
    }
   ],
   "source": [
    "ans = -1\n",
    "for shop in shops:\n",
    "    distance = shop[0]\n",
    "    price = shop[1]\n",
    "    stock = shop[2]\n",
    "    \n",
    "    if(stock - distance*1 > 0):\n",
    "        if((ans>0 and price<ans) or (ans == -1)):\n",
    "            ans = price\n",
    "\n",
    "print(ans)"
   ]
  },
  {
   "cell_type": "markdown",
   "metadata": {},
   "source": [
    "# C - Unexpressed"
   ]
  },
  {
   "cell_type": "code",
   "execution_count": 169,
   "metadata": {},
   "outputs": [
    {
     "name": "stdout",
     "output_type": "stream",
     "text": [
      "100000\n"
     ]
    }
   ],
   "source": [
    "N = int(input())"
   ]
  },
  {
   "cell_type": "code",
   "execution_count": 172,
   "metadata": {},
   "outputs": [
    {
     "name": "stdout",
     "output_type": "stream",
     "text": [
      "99634\n"
     ]
    }
   ],
   "source": [
    "count = 0\n",
    "s = set()\n",
    "\n",
    "for a in range(2, N+1):\n",
    "    if(a*a <= N):\n",
    "        x=a*a\n",
    "        while x <= N:\n",
    "            s.add(x)\n",
    "            x *= a\n",
    "        a+=1\n",
    "    else:\n",
    "        break\n",
    "\n",
    "print(N-len(s))"
   ]
  }
 ],
 "metadata": {
  "kernelspec": {
   "display_name": "Python 3",
   "language": "python",
   "name": "python3"
  },
  "language_info": {
   "codemirror_mode": {
    "name": "ipython",
    "version": 3
   },
   "file_extension": ".py",
   "mimetype": "text/x-python",
   "name": "python",
   "nbconvert_exporter": "python",
   "pygments_lexer": "ipython3",
   "version": "3.8.5"
  }
 },
 "nbformat": 4,
 "nbformat_minor": 4
}
